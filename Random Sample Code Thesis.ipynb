{
 "cells": [
  {
   "cell_type": "code",
   "execution_count": 10,
   "id": "e7c5f099-75a2-464d-907c-045d0c7b5678",
   "metadata": {},
   "outputs": [],
   "source": []
  },
  {
   "cell_type": "code",
   "execution_count": 11,
   "id": "1866dbd0-580d-4349-95da-b69bbbd9e499",
   "metadata": {},
   "outputs": [
    {
     "ename": "FileNotFoundError",
     "evalue": "[Errno 2] No such file or directory: 'C:/Users/dogaa/Desktop/image_folder'",
     "output_type": "error",
     "traceback": [
      "\u001b[0;31m---------------------------------------------------------------------------\u001b[0m",
      "\u001b[0;31mFileNotFoundError\u001b[0m                         Traceback (most recent call last)",
      "Input \u001b[0;32mIn [11]\u001b[0m, in \u001b[0;36m<module>\u001b[0;34m\u001b[0m\n\u001b[1;32m      2\u001b[0m sampled_folder \u001b[38;5;241m=\u001b[39m \u001b[38;5;124m\"\u001b[39m\u001b[38;5;124mC:/Users/dogaa/Desktop/sampled_folder\u001b[39m\u001b[38;5;124m\"\u001b[39m  \u001b[38;5;66;03m# replace with actual path to destination folder\u001b[39;00m\n\u001b[1;32m      4\u001b[0m \u001b[38;5;66;03m# Get list of all file names in folder\u001b[39;00m\n\u001b[0;32m----> 5\u001b[0m images \u001b[38;5;241m=\u001b[39m \u001b[43mos\u001b[49m\u001b[38;5;241;43m.\u001b[39;49m\u001b[43mlistdir\u001b[49m\u001b[43m(\u001b[49m\u001b[43mimage_folder\u001b[49m\u001b[43m)\u001b[49m\n\u001b[1;32m      7\u001b[0m \u001b[38;5;66;03m# Randomly sample 80 files\u001b[39;00m\n\u001b[1;32m      8\u001b[0m sampled_images \u001b[38;5;241m=\u001b[39m random\u001b[38;5;241m.\u001b[39msample(images, k\u001b[38;5;241m=\u001b[39m\u001b[38;5;241m80\u001b[39m)\n",
      "\u001b[0;31mFileNotFoundError\u001b[0m: [Errno 2] No such file or directory: 'C:/Users/dogaa/Desktop/image_folder'"
     ]
    }
   ],
   "source": [
    "import os\n",
    "import random\n",
    "import shutil\n",
    "\n",
    "#paths for folders\n",
    "image_folder = \"C:/Users/dogaa/Desktop/image_folder\"  \n",
    "sampled_folder = \"C:/Users/dogaa/Desktop/sampled_folder\"  \n",
    "\n",
    "#get images to be sampled \n",
    "images = os.listdir(image_folder)\n",
    "\n",
    "#sample k images randomly \n",
    "sampled_images = random.sample(images, k=80)\n",
    "\n",
    "#copy the sampled images to a new folder\n",
    "for file in sampled_images:\n",
    "    image_path = os.path.join(image_folder, file)\n",
    "    sampled_path = os.path.join(sampled_folder, file)\n",
    "    shutil.copyfile(image_path, sampled_path)"
   ]
  },
  {
   "cell_type": "code",
   "execution_count": null,
   "id": "8931d6a6-f04d-4c07-9e39-6670ddcad3fc",
   "metadata": {},
   "outputs": [],
   "source": []
  }
 ],
 "metadata": {
  "kernelspec": {
   "display_name": "Python 3 (ipykernel)",
   "language": "python",
   "name": "python3"
  },
  "language_info": {
   "codemirror_mode": {
    "name": "ipython",
    "version": 3
   },
   "file_extension": ".py",
   "mimetype": "text/x-python",
   "name": "python",
   "nbconvert_exporter": "python",
   "pygments_lexer": "ipython3",
   "version": "3.9.7"
  }
 },
 "nbformat": 4,
 "nbformat_minor": 5
}
